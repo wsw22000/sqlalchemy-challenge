{
 "cells": [
  {
   "cell_type": "code",
   "execution_count": 1,
   "metadata": {},
   "outputs": [],
   "source": [
    "%matplotlib inline\n",
    "from matplotlib import style\n",
    "style.use('fivethirtyeight')\n",
    "import matplotlib.pyplot as plt"
   ]
  },
  {
   "cell_type": "code",
   "execution_count": 2,
   "metadata": {},
   "outputs": [],
   "source": [
    "import datetime as dt\n",
    "import numpy as np\n",
    "import pandas as pd\n",
    "import inspect\n",
    "import scipy.stats as stats\n",
    "import datetime as dt\n",
    "from flask import Flask, jsonify"
   ]
  },
  {
   "cell_type": "code",
   "execution_count": 3,
   "metadata": {},
   "outputs": [],
   "source": [
    "# Python SQL toolkit and Object Relational Mapper\n",
    "import sqlalchemy\n",
    "from sqlalchemy.ext.automap import automap_base\n",
    "from sqlalchemy.orm import Session\n",
    "from sqlalchemy import create_engine, inspect, func"
   ]
  },
  {
   "cell_type": "code",
   "execution_count": 4,
   "metadata": {},
   "outputs": [],
   "source": [
    "engine = create_engine(\"sqlite:///hawaii.sqlite\")"
   ]
  },
  {
   "cell_type": "markdown",
   "metadata": {},
   "source": [
    "# Reflect Tables into SQLAlchemy ORM"
   ]
  },
  {
   "cell_type": "code",
   "execution_count": 5,
   "metadata": {},
   "outputs": [],
   "source": [
    "# reflect an existing database into a new model\n",
    "Base=automap_base()\n",
    "# reflect the tables\n",
    "Base.prepare(engine,reflect=True)"
   ]
  },
  {
   "cell_type": "code",
   "execution_count": 6,
   "metadata": {},
   "outputs": [
    {
     "data": {
      "text/plain": [
       "['measurement', 'station']"
      ]
     },
     "execution_count": 6,
     "metadata": {},
     "output_type": "execute_result"
    }
   ],
   "source": [
    "# We can view all of the classes that automap found\n",
    "Base.classes.keys()"
   ]
  },
  {
   "cell_type": "code",
   "execution_count": 7,
   "metadata": {},
   "outputs": [],
   "source": [
    "# Save references to each table\n",
    "Station = Base.classes.station\n",
    "Measurement = Base.classes.measurement"
   ]
  },
  {
   "cell_type": "code",
   "execution_count": 8,
   "metadata": {},
   "outputs": [],
   "source": [
    "# Create our session (link) from Python to the DB\n",
    "session=Session(engine)"
   ]
  },
  {
   "cell_type": "markdown",
   "metadata": {},
   "source": [
    " ## Percipitation Analysis"
   ]
  },
  {
   "cell_type": "code",
   "execution_count": 9,
   "metadata": {},
   "outputs": [
    {
     "data": {
      "text/plain": [
       "datetime.date(2017, 8, 23)"
      ]
     },
     "execution_count": 9,
     "metadata": {},
     "output_type": "execute_result"
    }
   ],
   "source": [
    "# Design a query to retrieve the last 12 months of precipitation data and plot the results\n",
    "# Calculate the date 1 year ago from the last data point in the database\n",
    "last_date_recorded=session.query(func.max(Measurement.date)).all()\n",
    "\n",
    "today = dt.date.today()\n",
    "\n",
    "last_date_recorded_datefmt = today.replace(year=int(last_date_recorded[0][0][:4]),\\\n",
    "                                        month=int(last_date_recorded[0][0][5:7]),\\\n",
    "                                        day=int(last_date_recorded[0][0][8:]))\n",
    "last_date_recorded_datefmt"
   ]
  },
  {
   "cell_type": "code",
   "execution_count": 10,
   "metadata": {},
   "outputs": [
    {
     "data": {
      "text/plain": [
       "datetime.date(2016, 8, 23)"
      ]
     },
     "execution_count": 10,
     "metadata": {},
     "output_type": "execute_result"
    }
   ],
   "source": [
    "start_date_datefmt = last_date_recorded_datefmt-dt.timedelta(days=365)\n",
    "start_date_datefmt"
   ]
  },
  {
   "cell_type": "code",
   "execution_count": 11,
   "metadata": {},
   "outputs": [],
   "source": [
    "last_date_recorded= last_date_recorded_datefmt.strftime(\"%Y-%m-%d\")\n",
    "start_date_recorded = start_date_datefmt.strftime(\"%Y-%m-%d\")"
   ]
  },
  {
   "cell_type": "code",
   "execution_count": 12,
   "metadata": {},
   "outputs": [
    {
     "data": {
      "text/plain": [
       "'08-23'"
      ]
     },
     "execution_count": 12,
     "metadata": {},
     "output_type": "execute_result"
    }
   ],
   "source": [
    "last_date_md= last_date_recorded_datefmt.strftime(\"%m-%d\")\n",
    "last_date_md"
   ]
  },
  {
   "cell_type": "code",
   "execution_count": 13,
   "metadata": {},
   "outputs": [
    {
     "data": {
      "text/html": [
       "<div>\n",
       "<style scoped>\n",
       "    .dataframe tbody tr th:only-of-type {\n",
       "        vertical-align: middle;\n",
       "    }\n",
       "\n",
       "    .dataframe tbody tr th {\n",
       "        vertical-align: top;\n",
       "    }\n",
       "\n",
       "    .dataframe thead th {\n",
       "        text-align: right;\n",
       "    }\n",
       "</style>\n",
       "<table border=\"1\" class=\"dataframe\">\n",
       "  <thead>\n",
       "    <tr style=\"text-align: right;\">\n",
       "      <th></th>\n",
       "      <th>percipitation</th>\n",
       "    </tr>\n",
       "    <tr>\n",
       "      <th>date</th>\n",
       "      <th></th>\n",
       "    </tr>\n",
       "  </thead>\n",
       "  <tbody>\n",
       "    <tr>\n",
       "      <th>2016-08-24</th>\n",
       "      <td>0.08</td>\n",
       "    </tr>\n",
       "    <tr>\n",
       "      <th>2016-08-24</th>\n",
       "      <td>2.15</td>\n",
       "    </tr>\n",
       "    <tr>\n",
       "      <th>2016-08-24</th>\n",
       "      <td>2.28</td>\n",
       "    </tr>\n",
       "    <tr>\n",
       "      <th>2016-08-24</th>\n",
       "      <td>NaN</td>\n",
       "    </tr>\n",
       "    <tr>\n",
       "      <th>2016-08-24</th>\n",
       "      <td>1.22</td>\n",
       "    </tr>\n",
       "  </tbody>\n",
       "</table>\n",
       "</div>"
      ],
      "text/plain": [
       "            percipitation\n",
       "date                     \n",
       "2016-08-24           0.08\n",
       "2016-08-24           2.15\n",
       "2016-08-24           2.28\n",
       "2016-08-24            NaN\n",
       "2016-08-24           1.22"
      ]
     },
     "execution_count": 13,
     "metadata": {},
     "output_type": "execute_result"
    }
   ],
   "source": [
    "# Perform a query to retrieve the data and precipitation scores\n",
    "percip_data=session.query(Measurement.date, Measurement.prcp).\\\n",
    "    filter(Measurement.date>start_date_recorded).\\\n",
    "    filter(Measurement.date<=last_date_recorded).\\\n",
    "    order_by(Measurement.date).all()\n",
    "\n",
    "# Save the query results as a Pandas DataFrame and set the index to the date column\n",
    "percip_df=pd.DataFrame(percip_data,columns=['date','percipitation'])\n",
    "percip_df.set_index('date', inplace=True)\n",
    "percip_df.head()                                          "
   ]
  },
  {
   "cell_type": "code",
   "execution_count": 14,
   "metadata": {},
   "outputs": [
    {
     "data": {
      "image/png": "[encoded data removed]",
      "text/plain": [
       "<Figure size 720x360 with 1 Axes>"
      ]
     },
     "metadata": {},
     "output_type": "display_data"
    }
   ],
   "source": [
    "percip_df.plot(figsize=(10,5),ylim=(0,8),title=f'Precipitation from {start_date_recorded} till {last_date_recorded}',\\\n",
    "                  label=\"Precipitation\",rot=45)\n",
    "plt.legend(loc=\"upper left\")\n",
    "plt.savefig(\"Images/Precipitation_Analysis.jpg\")\n",
    "plt.show()"
   ]
  },
  {
   "cell_type": "code",
   "execution_count": 15,
   "metadata": {},
   "outputs": [
    {
     "data": {
      "text/html": [
       "<div>\n",
       "<style scoped>\n",
       "    .dataframe tbody tr th:only-of-type {\n",
       "        vertical-align: middle;\n",
       "    }\n",
       "\n",
       "    .dataframe tbody tr th {\n",
       "        vertical-align: top;\n",
       "    }\n",
       "\n",
       "    .dataframe thead th {\n",
       "        text-align: right;\n",
       "    }\n",
       "</style>\n",
       "<table border=\"1\" class=\"dataframe\">\n",
       "  <thead>\n",
       "    <tr style=\"text-align: right;\">\n",
       "      <th></th>\n",
       "      <th>percipitation</th>\n",
       "    </tr>\n",
       "  </thead>\n",
       "  <tbody>\n",
       "    <tr>\n",
       "      <th>count</th>\n",
       "      <td>2015.000000</td>\n",
       "    </tr>\n",
       "    <tr>\n",
       "      <th>mean</th>\n",
       "      <td>0.176462</td>\n",
       "    </tr>\n",
       "    <tr>\n",
       "      <th>std</th>\n",
       "      <td>0.460288</td>\n",
       "    </tr>\n",
       "    <tr>\n",
       "      <th>min</th>\n",
       "      <td>0.000000</td>\n",
       "    </tr>\n",
       "    <tr>\n",
       "      <th>25%</th>\n",
       "      <td>0.000000</td>\n",
       "    </tr>\n",
       "    <tr>\n",
       "      <th>50%</th>\n",
       "      <td>0.020000</td>\n",
       "    </tr>\n",
       "    <tr>\n",
       "      <th>75%</th>\n",
       "      <td>0.130000</td>\n",
       "    </tr>\n",
       "    <tr>\n",
       "      <th>max</th>\n",
       "      <td>6.700000</td>\n",
       "    </tr>\n",
       "  </tbody>\n",
       "</table>\n",
       "</div>"
      ],
      "text/plain": [
       "       percipitation\n",
       "count    2015.000000\n",
       "mean        0.176462\n",
       "std         0.460288\n",
       "min         0.000000\n",
       "25%         0.000000\n",
       "50%         0.020000\n",
       "75%         0.130000\n",
       "max         6.700000"
      ]
     },
     "execution_count": 15,
     "metadata": {},
     "output_type": "execute_result"
    }
   ],
   "source": [
    "#Use Pandas to print the summary statistics for the percipitation data\n",
    "percip_df.describe()"
   ]
  },
  {
   "cell_type": "markdown",
   "metadata": {},
   "source": [
    " ## Station Analysis"
   ]
  },
  {
   "cell_type": "code",
   "execution_count": 16,
   "metadata": {},
   "outputs": [
    {
     "data": {
      "text/plain": [
       "USC00519397    360\n",
       "USC00519281    351\n",
       "USC00516128    348\n",
       "USC00513117    342\n",
       "USC00519523    336\n",
       "USC00514830    304\n",
       "USC00517948    182\n",
       "Name: station, dtype: int64"
      ]
     },
     "execution_count": 16,
     "metadata": {},
     "output_type": "execute_result"
    }
   ],
   "source": [
    "data_1year=session.query(Measurement.station,Measurement.date, Measurement.prcp,Measurement.tobs).\\\n",
    "    filter(Measurement.date>'2016-08-23').\\\n",
    "    filter(Measurement.date<='2017-08-23').\\\n",
    "    order_by(Measurement.date).all()\n",
    "data_1year_df=pd.DataFrame(data_1year, columns=['station','date','prcp','tobs'])\n",
    "data_1year_df.set_index('date', inplace=True)\n",
    "data_1year_df['station'].value_counts()"
   ]
  },
  {
   "cell_type": "code",
   "execution_count": 17,
   "metadata": {},
   "outputs": [],
   "source": [
    "# Design a query to show how many stations are available in this dataset?\n",
    "data=session.query(Measurement.station,Measurement.date, Measurement.prcp,Measurement.tobs).\\\n",
    "    order_by(Measurement.date).all()\n",
    "\n",
    "# Save the query results as a Pandas DataFrame and set the index to the date column\n",
    "data_df=pd.DataFrame(data, columns=['station','date','prcp','tobs'])\n",
    "data_df.set_index('date', inplace=True)"
   ]
  },
  {
   "cell_type": "code",
   "execution_count": 18,
   "metadata": {},
   "outputs": [
    {
     "name": "stdout",
     "output_type": "stream",
     "text": [
      "There are 9 stations\n"
     ]
    }
   ],
   "source": [
    "station_count=len(data_df['station'].unique())\n",
    "print(f'There are {station_count} stations')"
   ]
  },
  {
   "cell_type": "code",
   "execution_count": 19,
   "metadata": {},
   "outputs": [
    {
     "data": {
      "text/plain": [
       "USC00519281    2772\n",
       "USC00519397    2724\n",
       "USC00513117    2709\n",
       "USC00519523    2669\n",
       "USC00516128    2612\n",
       "USC00514830    2202\n",
       "USC00511918    1979\n",
       "USC00517948    1372\n",
       "USC00518838     511\n",
       "Name: station, dtype: int64"
      ]
     },
     "execution_count": 19,
     "metadata": {},
     "output_type": "execute_result"
    }
   ],
   "source": [
    "# What are the most active stations? (i.e. what stations have the most rows)?\n",
    "# List the stations and the counts in descending order.\n",
    "data_df['station'].value_counts()"
   ]
  },
  {
   "cell_type": "code",
   "execution_count": 20,
   "metadata": {},
   "outputs": [
    {
     "name": "stdout",
     "output_type": "stream",
     "text": [
      "The max recorded temperature at USC00519281 between 2016-08-23 and 2017-08-23 was 85.0\n",
      "The min recorded temperature at USC00519281 between 2016-08-23 and 2017-08-23 was 54.0\n",
      "The average recorded temperature at USC00519281 between 2016-08-23 and 2017-08-23 was 71.7\n"
     ]
    }
   ],
   "source": [
    "# Using the station id from the previous query, calculate the lowest temperature recorded, \n",
    "# highest temperature recorded, and average temperature of the most active station?\n",
    "most_active_station_df = data_df.loc[data_df['station']=='USC00519281']\n",
    "temp_max = most_active_station_df['tobs'].max()\n",
    "print(f'The max recorded temperature at USC00519281 between {start_date_recorded} and {last_date_recorded} was {temp_max}')\n",
    "temp_min = (most_active_station_df['tobs'].min())\n",
    "print(f'The min recorded temperature at USC00519281 between {start_date_recorded} and {last_date_recorded} was {temp_min}')\n",
    "temp_avg = round((most_active_station_df['tobs'].mean()),1)\n",
    "print(f'The average recorded temperature at USC00519281 between {start_date_recorded} and {last_date_recorded} was {temp_avg}')"
   ]
  },
  {
   "cell_type": "code",
   "execution_count": 21,
   "metadata": {},
   "outputs": [
    {
     "data": {
      "text/html": [
       "<div>\n",
       "<style scoped>\n",
       "    .dataframe tbody tr th:only-of-type {\n",
       "        vertical-align: middle;\n",
       "    }\n",
       "\n",
       "    .dataframe tbody tr th {\n",
       "        vertical-align: top;\n",
       "    }\n",
       "\n",
       "    .dataframe thead th {\n",
       "        text-align: right;\n",
       "    }\n",
       "</style>\n",
       "<table border=\"1\" class=\"dataframe\">\n",
       "  <thead>\n",
       "    <tr style=\"text-align: right;\">\n",
       "      <th></th>\n",
       "      <th>date</th>\n",
       "      <th>station_id</th>\n",
       "      <th>temperatures</th>\n",
       "    </tr>\n",
       "  </thead>\n",
       "  <tbody>\n",
       "    <tr>\n",
       "      <th>0</th>\n",
       "      <td>2016-08-24</td>\n",
       "      <td>USC00519281</td>\n",
       "      <td>77.0</td>\n",
       "    </tr>\n",
       "    <tr>\n",
       "      <th>1</th>\n",
       "      <td>2016-08-25</td>\n",
       "      <td>USC00519281</td>\n",
       "      <td>80.0</td>\n",
       "    </tr>\n",
       "    <tr>\n",
       "      <th>2</th>\n",
       "      <td>2016-08-26</td>\n",
       "      <td>USC00519281</td>\n",
       "      <td>80.0</td>\n",
       "    </tr>\n",
       "    <tr>\n",
       "      <th>3</th>\n",
       "      <td>2016-08-27</td>\n",
       "      <td>USC00519281</td>\n",
       "      <td>75.0</td>\n",
       "    </tr>\n",
       "    <tr>\n",
       "      <th>4</th>\n",
       "      <td>2016-08-28</td>\n",
       "      <td>USC00519281</td>\n",
       "      <td>73.0</td>\n",
       "    </tr>\n",
       "  </tbody>\n",
       "</table>\n",
       "</div>"
      ],
      "text/plain": [
       "         date   station_id  temperatures\n",
       "0  2016-08-24  USC00519281          77.0\n",
       "1  2016-08-25  USC00519281          80.0\n",
       "2  2016-08-26  USC00519281          80.0\n",
       "3  2016-08-27  USC00519281          75.0\n",
       "4  2016-08-28  USC00519281          73.0"
      ]
     },
     "execution_count": 21,
     "metadata": {},
     "output_type": "execute_result"
    }
   ],
   "source": [
    "# Choose the station with the highest number of temperature observations.\n",
    "# Query the last 12 months of temperature observation data for this station and plot the results as a histogram\n",
    "temp_data=session.query(Measurement.date,Measurement.station,Measurement.tobs).\\\n",
    "    filter(Measurement.station =='USC00519281').\\\n",
    "    filter(Measurement.date>'2016-08-23').\\\n",
    "    filter(Measurement.date<='2017-08-23').all()\n",
    "\n",
    "# # Save the query results as a Pandas DataFrame and set the index to the date column\n",
    "# temp_df=temp_data.DataFrame(temp_data, columns=['tobs'])\n",
    "temp_data_df = pd.DataFrame(temp_data,columns=['date','station_id','temperatures'])\n",
    "temp_data_df.head()"
   ]
  },
  {
   "cell_type": "code",
   "execution_count": 22,
   "metadata": {},
   "outputs": [
    {
     "data": {
      "image/png": "[encoded data removed]",
      "text/plain": [
       "<Figure size 432x288 with 1 Axes>"
      ]
     },
     "metadata": {},
     "output_type": "display_data"
    }
   ],
   "source": [
    "# Query the last 12 months of temperature observation data for this station and plot the results as a histogram\n",
    "\n",
    "temp_data_df.plot.hist(by=\"tobs\",bins=12,label=\"tobs\",title=f'Temperature Frequency for USC00519281 from 08/23/2017 to 08/23/2017')\n",
    "plt.ylim=(0,80)\n",
    "plt.ylabel(\"Frequency of Temperature\")\n",
    "plt.xlabel(\"Temperature (F)\")\n",
    "plt.legend=()\n",
    "plt.savefig(\"Images/Temperature_Analysis.jpg\")\n",
    "plt.show()"
   ]
  },
  {
   "cell_type": "markdown",
   "metadata": {},
   "source": [
    "## Step 2 - Climate App"
   ]
  },
  {
   "cell_type": "markdown",
   "metadata": {},
   "source": [
    "### Getting Last Date from Data Set"
   ]
  },
  {
   "cell_type": "code",
   "execution_count": null,
   "metadata": {},
   "outputs": [],
   "source": [
    "def date_calc():\n",
    "\n",
    "    latest_date = session.query(func.max(Measurement.date)).all()\n",
    "\n",
    "    session.close\n",
    "   \n",
    "    today = dt.date.today()\n",
    "    lastest_date_datefmt = today.replace(year=int(latest_date[0][0][:4]),\\\n",
    "                                        month=int(latest_date[0][0][5:7]),\\\n",
    "                                        day=int(latest_date[0][0][8:]))\n",
    "    \n",
    "    one_year_backdate = lastest_date_datefmt-dt.timedelta(days=365)\n",
    "    \n",
    "    data_end_date_ymd = lastest_date_datefmt.strftime(\"%Y-%m-%d\")\n",
    "    start_date_ymd = one_year_backdate.strftime(\"%Y-%m-%d\")\n",
    "    \n",
    "    Year_list = [start_date_ymd,data_end_date_ymd]\n",
    "    return(tuple(Year_list))\n",
    "\n",
    "app = Flask(__name__)"
   ]
  },
  {
   "cell_type": "markdown",
   "metadata": {},
   "source": [
    "### Website Landing Page"
   ]
  },
  {
   "cell_type": "code",
   "execution_count": null,
   "metadata": {},
   "outputs": [],
   "source": [
    "@app.route(\"/\")\n",
    "def home():\n",
    "    print(\"Server received request for 'Home' page\")\n",
    "    return f\"\"\"Available Routes:<br/>\n",
    "        <br/>\n",
    "        /api/v1.0/precipitation<br/>\n",
    "        <br/>\n",
    "        /api/v1.0/stations<br/>\n",
    "        <br/>\n",
    "        /api/v1.0/tobs<br/>\n",
    "        <br/>\n",
    "        /api/v1.0/start<br/>\n",
    "        <br/>\n",
    "        /api/v1.0/start/end<br/>\n",
    "        <br/>\n",
    "        Note:\n",
    "        Latest available date is 2017-08-23\n",
    "        start and end dates must be in 'YYYY-MM-DD' format\"\"\""
   ]
  },
  {
   "cell_type": "markdown",
   "metadata": {},
   "source": [
    "### Precipitation Page"
   ]
  },
  {
   "cell_type": "code",
   "execution_count": null,
   "metadata": {},
   "outputs": [],
   "source": [
    "@app.route(\"/api/v1.0/precipitation\")\n",
    "def percipitation():\n",
    "    print(\"Server received request for 'Precipitation' page\")\n",
    "\n",
    "    range = date_calc()\n",
    "    end_date = range[1]\n",
    "    start_date = range[0]\n",
    "        \n",
    "    results = session.query(Measurement.date, Measurement.station, Measurement.prcp).\\\n",
    "        filter(Measurement.date <= end_date).\\\n",
    "        filter(Measurement.date >= start_date).all()\n",
    "        \n",
    "    session.close\n",
    "         \n",
    "    all_percipitation = []\n",
    "    for result in results:\n",
    "        percipitation_dict = {\"Date\":result[0], \"Station\":result[1],\"Precipitation\":result[2]}\n",
    "        all_percipitation.append(percipitation_dict)\n",
    "    \n",
    "    return jsonify(all_percipitation)"
   ]
  },
  {
   "cell_type": "markdown",
   "metadata": {},
   "source": [
    "### Stations Page"
   ]
  },
  {
   "cell_type": "code",
   "execution_count": null,
   "metadata": {},
   "outputs": [],
   "source": [
    "@app.route(\"/api/v1.0/stations\")\n",
    "def stations():\n",
    "    print(\"Server received request for 'Station' page\")\n",
    "        \n",
    "    results = session.query(Station.station, Station.name).all()\n",
    "        \n",
    "    session.close\n",
    "\n",
    "    all_stations = []\n",
    "    for result in results:\n",
    "        stations_dict = {\"Station ID:\":results[0],\"Station Name\":results[1]}\n",
    "        all_stations.append(stations_dict)\n",
    "    \n",
    "    return jsonify(all_stations)"
   ]
  },
  {
   "cell_type": "markdown",
   "metadata": {},
   "source": [
    "### Temperatures Page"
   ]
  },
  {
   "cell_type": "code",
   "execution_count": null,
   "metadata": {},
   "outputs": [],
   "source": [
    "@app.route(\"/api/v1.0/tobs\")\n",
    "def tobs():\n",
    "    print(\"Server received request for 'TOBS' page\")\n",
    "\n",
    "    Range = date_calc()\n",
    "    End_date = Range[1]\n",
    "    Start_date = Range[0]\n",
    "        \n",
    "    results = session.query(Measurement.station, Measurement.date, Measurement.tobs).\\\n",
    "        filter(Measurement.date <= End_date).\\\n",
    "        filter(Measurement.date >= Start_date).\\\n",
    "        filter(Measurement.station == 'USC00519397').all()\n",
    "        \n",
    "    session.close\n",
    "\n",
    "    all_tobs = []\n",
    "    for temp in results:\n",
    "        stations_dict = {\"Date\": temp[0], \"Temperature\": temp[1]}\n",
    "        all_tobs.append(stations_dict)\n",
    "    \n",
    "    return jsonify(all_tobs)"
   ]
  },
  {
   "cell_type": "markdown",
   "metadata": {},
   "source": [
    "### Temperature Min/Avg/Max from Start Date to End of Data"
   ]
  },
  {
   "cell_type": "code",
   "execution_count": null,
   "metadata": {},
   "outputs": [],
   "source": [
    "@app.route(\"/api/v1.0/<start>\")\n",
    "def timestart(start):\n",
    "        \n",
    "    print(\"Server received request for 'Starting Weather Date' page\")\n",
    "        \n",
    "    results = session.query(func.min(Measurement.tobs), func.avg(Measurement.tobs), func.max(Measurement.tobs)).\\\n",
    "        filter(Measurement.date >= start).all()\n",
    "\n",
    "    session.close\n",
    "    \n",
    "    results_dict = {\"Minimum Temp\":results[0][0],\"Average Temp\":results[0][1], \"Maximum Temp\":results[0][2]}\n",
    "\n",
    "    return jsonify(results_dict)"
   ]
  },
  {
   "cell_type": "markdown",
   "metadata": {},
   "source": [
    "### Temperature Min/Avg/Max from Start to End Dates"
   ]
  },
  {
   "cell_type": "code",
   "execution_count": null,
   "metadata": {},
   "outputs": [],
   "source": [
    "@app.route(\"/api/v1.0/<start>/<end>\")\n",
    "def timestartend(start,end):\n",
    "    print(\"Server received request for 'Weather Date Range' page\")\n",
    "\n",
    "    results = session.query(func.min(Measurement.tobs), func.avg(Measurement.tobs), func.max(Measurement.tobs)).\\\n",
    "        filter(Measurement.date >= start).filter(Measurement.date <= end).all()\n",
    "\n",
    "    session.close\n",
    "    \n",
    "    results_dict = {\"Minimum Temp\":results[0][0],\"Average Temp\":results[0][1], \"Maximum Temp\":results[0][2]}\n",
    "\n",
    "    return jsonify(results_dict)\n",
    "\n",
    "if __name__ == '__main__':\n",
    "    app.run(debug=True)"
   ]
  },
  {
   "cell_type": "markdown",
   "metadata": {},
   "source": [
    "## Bonus Challenge Assignment"
   ]
  },
  {
   "cell_type": "markdown",
   "metadata": {},
   "source": [
    "### Temperature Analysis I"
   ]
  },
  {
   "cell_type": "code",
   "execution_count": 23,
   "metadata": {},
   "outputs": [
    {
     "data": {
      "text/plain": [
       "[(74.94411764705882)]"
      ]
     },
     "execution_count": 23,
     "metadata": {},
     "output_type": "execute_result"
    }
   ],
   "source": [
    "# June Average Temperature for at all stations across all available year in the dataset.\n",
    "june_avg_temp = session.query(func.avg(Measurement.tobs)).\\\n",
    "                filter(func.strftime(\"%m\",Measurement.date) == \"06\").all()\n",
    "june_avg_temp\n"
   ]
  },
  {
   "cell_type": "code",
   "execution_count": 24,
   "metadata": {},
   "outputs": [
    {
     "data": {
      "text/plain": [
       "[(71.04152933421226)]"
      ]
     },
     "execution_count": 24,
     "metadata": {},
     "output_type": "execute_result"
    }
   ],
   "source": [
    "# December Average Temperature for at all stations across all available year in the dataset.\n",
    "dec_avg_temp = session.query(func.avg(Measurement.tobs)).\\\n",
    "                filter(func.strftime(\"%m\",Measurement.date) == \"12\").all()\n",
    "dec_avg_temp"
   ]
  },
  {
   "cell_type": "code",
   "execution_count": 25,
   "metadata": {},
   "outputs": [
    {
     "data": {
      "text/plain": [
       "Ttest_indResult(statistic=array([31.35503692]), pvalue=array([4.19352984e-187]))"
      ]
     },
     "execution_count": 25,
     "metadata": {},
     "output_type": "execute_result"
    }
   ],
   "source": [
    "# Independent ttest because the temperatures in June are independent from the temperatures in December\n",
    "# The p-value is incredibly small (much less than .05) so the difference in their average temperature is significant \n",
    "june_temp_data=session.query(Measurement.tobs).\\\n",
    "    filter(func.strftime(\"%m\",Measurement.date) == \"06\").all()\n",
    "dec_temp_data=session.query(Measurement.tobs).\\\n",
    "    filter(func.strftime(\"%m\",Measurement.date) == \"12\").all()\n",
    "stats.ttest_ind(june_temp_data,dec_temp_data, equal_var=False)"
   ]
  },
  {
   "cell_type": "markdown",
   "metadata": {},
   "source": [
    "### Temperature Analysis II"
   ]
  },
  {
   "cell_type": "code",
   "execution_count": 26,
   "metadata": {},
   "outputs": [
    {
     "name": "stdout",
     "output_type": "stream",
     "text": [
      "Enter the trip start date in 'YYYY-MM-DD' format: 2020-09-05\n",
      "Enter the trip end date in 'YYYY-MM-DD' format: 2020-09-15\n"
     ]
    }
   ],
   "source": [
    "# Calculate previous year's date based on the current trip start & end dates\n",
    "start_date = input(\"Enter the trip start date in 'YYYY-MM-DD' format: \")\n",
    "end_date = input(\"Enter the trip end date in 'YYYY-MM-DD' format: \")"
   ]
  },
  {
   "cell_type": "code",
   "execution_count": 27,
   "metadata": {},
   "outputs": [
    {
     "name": "stdout",
     "output_type": "stream",
     "text": [
      "[(71.0, 77.22857142857143, 84.0)]\n"
     ]
    }
   ],
   "source": [
    "# Calculate the previous year's dates based on the input dates\n",
    "# note:because data is dated, went back 4 years for comparable period\n",
    "Struct = dt.date.today()\n",
    "start_date_format = Struct.replace(year=int(start_date[:4]),month=int(start_date[5:7]),day=int(start_date[8:]))\n",
    "prior_period_start_date = start_date_format - dt.timedelta(days=365*4+1)\n",
    "prior_period_start_date = prior_period_start_date.strftime(\"%Y-%m-%d\")\n",
    "\n",
    "end_date_format = Struct.replace(year=int(end_date[:4]),month=int(end_date[5:7]),day=int(end_date[8:]))\n",
    "prior_period_end_date = end_date_format - dt.timedelta(days=365*4+1)\n",
    "prior_period_end_date = prior_period_end_date.strftime(\"%Y-%m-%d\")\n",
    "\n",
    "\n",
    "# for your trip using the previous year's data for those same dates.\n",
    "def calc_temps(start_date, end_date):\n",
    "\n",
    "    return session.query(func.min(Measurement.tobs), func.avg(Measurement.tobs), func.max(Measurement.tobs)).\\\n",
    "        filter(Measurement.date >= start_date).filter(Measurement.date <= end_date).all()\n",
    "\n",
    "# Because data is dated, prior same period is four years back\n",
    "result = calc_temps(prior_period_start_date, prior_period_end_date)\n",
    "print(result)"
   ]
  },
  {
   "cell_type": "code",
   "execution_count": 28,
   "metadata": {},
   "outputs": [
    {
     "data": {
      "text/plain": [
       "'09-05'"
      ]
     },
     "execution_count": 28,
     "metadata": {},
     "output_type": "execute_result"
    }
   ],
   "source": [
    "prior_period_start_date = start_date_format - dt.timedelta(days=365*4+1)\n",
    "prior_period_start_date = prior_period_start_date.strftime(\"%m-%d\")\n",
    "prior_period_start_date"
   ]
  },
  {
   "cell_type": "code",
   "execution_count": 29,
   "metadata": {},
   "outputs": [
    {
     "data": {
      "image/png": "[encoded data removed]",
      "text/plain": [
       "<Figure size 144x720 with 1 Axes>"
      ]
     },
     "metadata": {},
     "output_type": "display_data"
    }
   ],
   "source": [
    "# Plot the results from your previous query as a bar chart. \n",
    "# Use \"Trip Avg Temp\" as your Title\n",
    "# Use the average temperature for the y value\n",
    "# Use the peak-to-peak (tmax-tmin) value as the y error bar (yerr)\n",
    "tmin = result[0][0]\n",
    "tavg = result[0][1]\n",
    "tmax = result[0][2]\n",
    "y_err = tmax-tmin\n",
    "\n",
    "plt.figure(figsize=(2,10))\n",
    "plt.bar(0,tavg,yerr=y_err,align=\"center\",width=1,color=\"orange\",alpha=0.5)\n",
    "plt.ylim=(0,120)\n",
    "plt.ylabel(\"Temperature(F)\")\n",
    "plt.title(\"Trip Avg Temperature\")\n",
    "plt.savefig(\"Images/Trip_Avg_Temp_Analysis.jpg\")\n",
    "plt.show()"
   ]
  }
 ],
 "metadata": {
  "kernel_info": {
   "name": "python3"
  },
  "kernelspec": {
   "display_name": "Python 3",
   "language": "python",
   "name": "python3"
  },
  "language_info": {
   "codemirror_mode": {
    "name": "ipython",
    "version": 3
   },
   "file_extension": ".py",
   "mimetype": "text/x-python",
   "name": "python",
   "nbconvert_exporter": "python",
   "pygments_lexer": "ipython3",
   "version": "3.6.10"
  },
  "nteract": {
   "version": "0.12.3"
  },
  "varInspector": {
   "cols": {
    "lenName": 16,
    "lenType": 16,
    "lenVar": 40
   },
   "kernels_config": {
    "python": {
     "delete_cmd_postfix": "",
     "delete_cmd_prefix": "del ",
     "library": "var_list.py",
     "varRefreshCmd": "print(var_dic_list())"
    },
    "r": {
     "delete_cmd_postfix": ") ",
     "delete_cmd_prefix": "rm(",
     "library": "var_list.r",
     "varRefreshCmd": "cat(var_dic_list()) "
    }
   },
   "types_to_exclude": [
    "module",
    "function",
    "builtin_function_or_method",
    "instance",
    "_Feature"
   ],
   "window_display": false
  }
 },
 "nbformat": 4,
 "nbformat_minor": 2
}
